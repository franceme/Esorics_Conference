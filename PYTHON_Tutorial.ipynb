{
 "cells": [
  {
   "cell_type": "markdown",
   "id": "d83b1653-a0f0-4174-9c38-6537b95aae64",
   "metadata": {
    "tags": []
   },
   "source": [
    "# Setting Imports"
   ]
  },
  {
   "cell_type": "code",
   "execution_count": null,
   "id": "50ebd65d-0e1f-4da4-8938-06b2a7261d64",
   "metadata": {
    "tags": []
   },
   "outputs": [],
   "source": [
    "import os,sys,mitosheet\n",
    "\n",
    "workingFile, outputFile = \"test.py\", \"output.csv\""
   ]
  },
  {
   "cell_type": "markdown",
   "id": "08115ad6-0563-42d7-9f2e-7b814d67561e",
   "metadata": {
    "tags": []
   },
   "source": [
    "# Showing the help page"
   ]
  },
  {
   "cell_type": "code",
   "execution_count": null,
   "id": "f63ec64f-7988-4784-a917-a3f0d0cecaef",
   "metadata": {
    "tags": []
   },
   "outputs": [],
   "source": [
    "!cryptolation -h"
   ]
  },
  {
   "cell_type": "code",
   "execution_count": null,
   "id": "0bf90a25-ebf5-4873-bc49-02f4b765fde8",
   "metadata": {
    "tags": []
   },
   "outputs": [],
   "source": [
    "def bandit_scan(file_name, isDir = False):\n",
    "    outputName = file_name+'_banditscan.csv' if isDir else file_name.replace('.py','_banditscan.csv')\n",
    "    cmd = f\"bandit -f csv -o {outputName} {'-r' if isDir else ''} {file_name}\"\n",
    "    try:\n",
    "        !{cmd}\n",
    "    except Exception as e:\n",
    "        err = e\n",
    "        pass\n",
    "\n",
    "    return outputName\n",
    "\n",
    "!bandit --version"
   ]
  },
  {
   "cell_type": "markdown",
   "id": "b832009f-5a82-4138-8f1a-c61f81665459",
   "metadata": {
    "tags": []
   },
   "source": [
    "# Writing and scanning the import alias file for vulnerabilities"
   ]
  },
  {
   "cell_type": "code",
   "execution_count": null,
   "id": "19c11a93-d322-4c90-9d2c-0ecaf5ac0cfc",
   "metadata": {},
   "outputs": [],
   "source": [
    "%%writefile {workingFile}\n",
    "from hashlib import sha1 as sha512\n",
    "\n",
    "message = sha512()\n",
    "message.update(b\"Hello World\")\n",
    "print(f\"Hashed by SHA512: {message.digest()}\")"
   ]
  },
  {
   "cell_type": "markdown",
   "id": "261d85fa-0d1c-4614-b193-bd047b34d284",
   "metadata": {},
   "source": [
    "## Showing the Bandit Results"
   ]
  },
  {
   "cell_type": "code",
   "execution_count": null,
   "id": "a2c7bd48-fcda-45c7-afb4-bf82e143e047",
   "metadata": {},
   "outputs": [],
   "source": [
    "mitosheet.sheet(bandit_scan(workingFile))"
   ]
  },
  {
   "cell_type": "markdown",
   "id": "8e908d25-f994-4341-9e91-5a4583a23d7e",
   "metadata": {},
   "source": [
    "## Showing Cryptolation Results"
   ]
  },
  {
   "cell_type": "code",
   "execution_count": null,
   "id": "ff6b7927-181c-435b-b2f8-3077392d3e3f",
   "metadata": {
    "tags": []
   },
   "outputs": [],
   "source": [
    "!cryptolation {workingFile} --OUTPUT={outputFile};\n",
    "mitosheet.sheet(outputFile)"
   ]
  },
  {
   "cell_type": "markdown",
   "id": "b39cce44-515b-4906-afbb-0ea43fd09764",
   "metadata": {
    "tags": []
   },
   "source": [
    "# Writing and scanning the JWT verification file for vulnerabilities"
   ]
  },
  {
   "cell_type": "code",
   "execution_count": null,
   "id": "12a6429e-451b-4129-9fa6-abe7984d919c",
   "metadata": {},
   "outputs": [],
   "source": [
    "%%writefile {workingFile}\n",
    "import jwt\n",
    "\n",
    "jwt.decode(token, verify=False)"
   ]
  },
  {
   "cell_type": "markdown",
   "id": "25ab55d6-b457-4617-95ef-dc4ea69499cc",
   "metadata": {},
   "source": [
    "## Showing the Bandit Results"
   ]
  },
  {
   "cell_type": "code",
   "execution_count": null,
   "id": "fec1d274-fe2c-4db1-b284-2334e2bbb21a",
   "metadata": {},
   "outputs": [],
   "source": [
    "mitosheet.sheet(bandit_scan(workingFile))"
   ]
  },
  {
   "cell_type": "markdown",
   "id": "5954f303-0832-4b44-9fdf-7f5f1675683e",
   "metadata": {},
   "source": [
    "## Showing Cryptolation Results"
   ]
  },
  {
   "cell_type": "code",
   "execution_count": null,
   "id": "904998a9-5692-4e46-9176-0c15cad47b08",
   "metadata": {
    "tags": []
   },
   "outputs": [],
   "source": [
    "!cryptolation {workingFile} --OUTPUT={outputFile};\n",
    "mitosheet.sheet(outputFile)"
   ]
  },
  {
   "cell_type": "markdown",
   "id": "c0376847-6a26-4ad1-b41a-9106e0df945e",
   "metadata": {
    "tags": []
   },
   "source": [
    "# Writing and scanning the URL file for vulnerabilities"
   ]
  },
  {
   "cell_type": "code",
   "execution_count": null,
   "id": "09fa3423-a681-4b63-8d5b-f8bf91a07619",
   "metadata": {
    "tags": []
   },
   "outputs": [],
   "source": [
    "%%writefile {workingFile}\n",
    "import urllib.request\n",
    "\n",
    "if False:\n",
    "    url = 'https://www.google.com'\n",
    "else:\n",
    "    url = 'http://www.google.com'\n",
    "\n",
    "req = urllib.request.Request(url)"
   ]
  },
  {
   "cell_type": "markdown",
   "id": "541dccb7-72c6-48a9-98c8-70d53f1ebed4",
   "metadata": {},
   "source": [
    "## Showing the Bandit Results"
   ]
  },
  {
   "cell_type": "code",
   "execution_count": null,
   "id": "bafcb9d3-74e6-4c59-8621-a95d667a9443",
   "metadata": {},
   "outputs": [],
   "source": [
    "mitosheet.sheet(bandit_scan(workingFile))"
   ]
  },
  {
   "cell_type": "markdown",
   "id": "d9cff3d9-39ff-4447-b4ec-2ff7c3c7616c",
   "metadata": {},
   "source": [
    "## Showing Cryptolation Results"
   ]
  },
  {
   "cell_type": "code",
   "execution_count": null,
   "id": "8f71f9f0-c41a-47f1-beeb-8c4c33744e81",
   "metadata": {
    "tags": []
   },
   "outputs": [],
   "source": [
    "!cryptolation {workingFile} --OUTPUT={outputFile};\n",
    "mitosheet.sheet(outputFile)"
   ]
  },
  {
   "cell_type": "markdown",
   "id": "ab8d4743-0057-46da-9f0c-a555f9044cec",
   "metadata": {
    "tags": []
   },
   "source": [
    "# Writing and scanning the keyword arguments for vulnerabilities"
   ]
  },
  {
   "cell_type": "code",
   "execution_count": null,
   "id": "59489a4f-ba4f-4bb2-8210-d7dab4952ced",
   "metadata": {
    "tags": []
   },
   "outputs": [],
   "source": [
    "%%writefile {workingFile}\n",
    "import requests\n",
    "\n",
    "with open(\"\", 'wb') as f:\n",
    "    resp = requests.get(\"\", verify=False)\n",
    "f.write(resp.content)"
   ]
  },
  {
   "cell_type": "markdown",
   "id": "03733e68-cf27-4e0d-8c16-5aff844544c2",
   "metadata": {},
   "source": [
    "## Showing the Bandit Results"
   ]
  },
  {
   "cell_type": "code",
   "execution_count": null,
   "id": "7b24a284-ce51-4926-b695-29c0852d1c47",
   "metadata": {},
   "outputs": [],
   "source": [
    "mitosheet.sheet(bandit_scan(workingFile))"
   ]
  },
  {
   "cell_type": "markdown",
   "id": "1e7908a7-5c4d-44e8-81d5-29316106072e",
   "metadata": {},
   "source": [
    "## Showing Cryptolation Results"
   ]
  },
  {
   "cell_type": "code",
   "execution_count": null,
   "id": "1d066695-d396-467e-a804-b8b9c34272c9",
   "metadata": {
    "tags": []
   },
   "outputs": [],
   "source": [
    "!cryptolation {workingFile} --OUTPUT={outputFile};\n",
    "mitosheet.sheet(outputFile)"
   ]
  },
  {
   "cell_type": "markdown",
   "id": "97f34008-0fe4-407c-b7f3-c4a3c5d100ef",
   "metadata": {
    "tags": []
   },
   "source": [
    "# Cleanup"
   ]
  },
  {
   "cell_type": "code",
   "execution_count": null,
   "id": "8c34c49b-2721-4425-8504-75e8c2d050cf",
   "metadata": {},
   "outputs": [],
   "source": [
    "!rm {workingFile}\n",
    "!rm {outputFile}\n",
    "!rm *.csv"
   ]
  }
 ],
 "metadata": {
  "kernelspec": {
   "display_name": "Python 3 (ipykernel)",
   "language": "python",
   "name": "python3"
  },
  "language_info": {
   "codemirror_mode": {
    "name": "ipython",
    "version": 3
   },
   "file_extension": ".py",
   "mimetype": "text/x-python",
   "name": "python",
   "nbconvert_exporter": "python",
   "pygments_lexer": "ipython3",
   "version": "3.8.10"
  }
 },
 "nbformat": 4,
 "nbformat_minor": 5
}
