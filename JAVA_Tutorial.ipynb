{
 "cells": [
  {
   "cell_type": "markdown",
   "metadata": {},
   "source": [
    "# SecDev Sampling Tutorial"
   ]
  },
  {
   "cell_type": "markdown",
   "metadata": {},
   "source": [
    "## Testing Imports"
   ]
  },
  {
   "cell_type": "code",
   "execution_count": null,
   "metadata": {},
   "outputs": [],
   "source": [
    "// Importing the local CryptoGuard Jar\n",
    "List <String> addedJars = %jars *.jar\n",
    "//*/\n",
    "\n",
    "// Maven Imports\n",
    "%maven junit:junit:4.12\n",
    "%maven org.apache.commons:commons-io:1.3.2\n",
    "%maven commons-io:commons-io:2.7\n",
    "%maven com.binarytweed:quarantining-test-runner:0.0.3\n",
    "%maven org.knowm.xchart:xchart:3.5.2\n",
    "\n",
    "// Gradle imports\n",
    "import static org.junit.Assert.assertFalse;\n",
    "import static org.junit.Assert.assertTrue;\n",
    "import static org.junit.Assert.assertEquals;\n",
    "import static org.junit.Assert.assertNull;\n",
    "import static org.junit.Assert.assertNotNull;\n",
    "import static util.Utils.makeArg;\n",
    "import frontEnd.Interface.outputRouting.ExceptionHandler;\n",
    "import frontEnd.Interface.ArgumentsCheck;\n",
    "import frontEnd.MessagingSystem.routing.Listing;\n",
    "import frontEnd.MessagingSystem.routing.EnvironmentInformation;\n",
    "import frontEnd.MessagingSystem.routing.structure.Default.Report;\n",
    "import frontEnd.MessagingSystem.routing.structure.Scarf.AnalyzerReport;\n",
    "import frontEnd.MessagingSystem.routing.structure.Scarf.BugInstance;\n",
    "import frontEnd.Interface.EntryPoint;\n",
    "import rule.engine.EngineType;\n",
    "import frontEnd.argsIdentifier;\n",
    "import java.io.File;\n",
    "import java.nio.charset.StandardCharsets;\n",
    "import java.nio.file.Files;\n",
    "import java.nio.file.Paths;\n",
    "import java.util.ArrayList;\n",
    "import java.util.Arrays;\n",
    "import java.util.List;\n",
    "import org.junit.After;\n",
    "import org.junit.Before;\n",
    "import org.junit.Test;\n",
    "import org.junit.runner.RunWith;\n",
    "import soot.G;\n",
    "import util.Utils;\n",
    "import org.apache.commons.io.FileUtils;\n",
    "import java.util.Scanner;\n",
    "import org.apache.commons.io.filefilter.WildcardFileFilter;\n",
    "import com.binarytweed.test.Quarantine;\n",
    "import com.binarytweed.test.QuarantiningRunner;\n",
    "import java.io.File;\n",
    "\n",
    "//To Add the slides and diagrams\n",
    "//https://github.com/knowm/XChart\n",
    "import org.knowm.xchart.*;"
   ]
  },
  {
   "cell_type": "markdown",
   "metadata": {},
   "source": [
    "## What version of CryptoGuard is this notebook using?"
   ]
  },
  {
   "cell_type": "code",
   "execution_count": null,
   "metadata": {},
   "outputs": [],
   "source": [
    "System.out.println(\"Cryptoguard Version: \" + Utils.projectVersion);"
   ]
  },
  {
   "cell_type": "code",
   "execution_count": null,
   "metadata": {},
   "outputs": [],
   "source": [
    "%%writefile import_sha.java\n",
    "\n",
    "import java.math.BigInteger;\n",
    "import java.security.MessageDigest;\n",
    "import java.security.NoSuchAlgorithmException;\n",
    "import java.nio.charset.StandardCharsets;\n",
    "\n",
    "public class import_sha {\n",
    "\tpublic static String encrypt(String input) {\n",
    "\t\ttry {\n",
    "\t\t\tMessageDigest md = MessageDigest.getInstance(\"SHA-512\");\n",
    "\t\t\n",
    "\t\t\tbyte[] messageDigest = md.digest(input.getBytes());\n",
    "\n",
    "\t\t\treturn new String(messageDigest,StandardCharsets.UTF_8);\n",
    "\t\t} catch(NoSuchAlgorithmException e) {\n",
    "\t\t\tthrow new RuntimeException(e);\n",
    "\t\t}\n",
    "\t}\n",
    "\n",
    "\tpublic static void main(String[] args) {\n",
    "\t\tString string = \"Hello World\";\n",
    "\n",
    "\t\tSystem.out.println(\"Hashing the string: \" + string);\n",
    "\t\tSystem.out.println(\"The hashed value is:\" + encrypt(string));\n",
    "\t}\n",
    "}"
   ]
  },
  {
   "cell_type": "markdown",
   "metadata": {},
   "source": [
    "## Loading the Custom Java And APK Versions From [SDKMan Downloads](https://sdkman.io/)"
   ]
  },
  {
   "cell_type": "code",
   "execution_count": null,
   "metadata": {},
   "outputs": [],
   "source": [
    "//Defining the base username and the paths to SDK Download JDKs\n",
    "String cur_user = System.getProperty(\"user.name\");\n",
    "String java_home = \"/home/\" + cur_user + \"/.sdkman/candidates/java/8*\";\n",
    "String java7_home = \"/home/\" + cur_user + \"/.sdkman/candidates/java/7*\";\n",
    "String android_home = \"/home/\" + cur_user + \"/.sdkman/candidates/android/current\";\n",
    "\n",
    "//Retrieving a specific path from a wild card based list\n",
    "/*\n",
    " * This is used since SDKMan Vendors will inconsistently upgrade minor versions of supported JDKs.\n",
    " * When installing a JDK through SDKMan we need to specific a specific JDK version (specifying minor version).\n",
    " * We \"dynamically\" download a JDK through SDKMan but have to look for the wild-card type expression to add it onto the path.\n",
    "**/\n",
    "public static String getFileFromWildCard(String path) {\n",
    "\tString[] split = path.split(\"/\");\n",
    "\tStringBuilder build = new StringBuilder();\n",
    "\tfor (int itr = 0;itr < split.length - 1;itr ++)\n",
    "\t\tbuild.append(split[itr]).append(\"/\");\n",
    "\n",
    "\tString[] files = new File(build.toString()).list(new WildcardFileFilter(split[split.length-1]));\n",
    "\n",
    "\tif (files.length > 0)\n",
    "\t\treturn build.toString() + files[files.length - 1];\n",
    "\telse\n",
    "\t\treturn null;\n",
    "}\n",
    "\n",
    "java_home = getFileFromWildCard(java_home);\n",
    "java7_home = getFileFromWildCard(java7_home);"
   ]
  },
  {
   "cell_type": "markdown",
   "metadata": {},
   "source": [
    "## Test Setup"
   ]
  },
  {
   "cell_type": "code",
   "execution_count": null,
   "metadata": {},
   "outputs": [],
   "source": [
    "// region String Statics\n",
    "public static final Boolean isLinux = !System.getProperty(\"os.name\").contains(\"Windows\");\n",
    "\n",
    "//Defining the different paths we will use\n",
    "public static final String basePath = System.getProperty(\"user.dir\");\n",
    "public static final String testRec = Utils.osPathJoin(basePath, \"samples\");\n",
    "public static final String testPath = Utils.osPathJoin(basePath, \"tmp\");\n",
    "\n",
    "//Clearing the tmp directory\n",
    "FileUtils.deleteDirectory(new File(testPath));\n",
    "new File(testPath).mkdirs();\n",
    "\n",
    "//Setting and creating the timing methods\n",
    "public long startTime;\n",
    "public long endTime;\n",
    "\n",
    "public static void start(){\n",
    "\tstartTime = System.currentTimeMillis();\n",
    "}\n",
    "\n",
    "public static void end(){\n",
    "\tendTime = System.currentTimeMillis();\n",
    "\tSystem.out.println(\"Total Execution time: \" + (endTime - startTime) + \" ms\");\n",
    "}\n",
    "\n",
    "\n",
    "//Resetting the file (deleting and re-creating the file).\n",
    "public static void create(String path) {\n",
    "\tFile newFile = new File(path);\n",
    "\ttry{\n",
    "\t\tnewFile.delete();\n",
    "\t\tnewFile.createNewFile();\n",
    "\t} catch(Exception e) {\n",
    "\t}\n",
    "}\n",
    "\n",
    "//Printing the contents of the file\n",
    "public static void print(String file) {\n",
    "\ttry {\n",
    "\t\tScanner reader = new Scanner(new File(file));\n",
    "\n",
    "\t\twhile (reader.hasNextLine()) \n",
    "\t\t\tSystem.out.println(reader.nextLine());\n",
    "\t}\n",
    "\tcatch (FileNotFoundException e) {\n",
    "\t}\n",
    "}"
   ]
  },
  {
   "cell_type": "markdown",
   "metadata": {},
   "source": [
    "## APK Setup"
   ]
  },
  {
   "cell_type": "code",
   "execution_count": null,
   "metadata": {},
   "outputs": [],
   "source": [
    "public static final String tempFileOutApk = Utils.osPathJoin(testPath, \"app-debug.txt\");\n",
    "public static final String tempFileOutApk_XML = Utils.osPathJoin(testPath, \"app-debug.xml\");\n",
    "public static final String tempFileOutApk_JSON = Utils.osPathJoin(testPath, \"app-debug.json\");\n",
    "public static final String tempFileOutApk_CSV = Utils.osPathJoin(testPath, \"app-debug.csv\");\n",
    "\n",
    "create(tempFileOutApk);\n",
    "create(tempFileOutApk_XML);\n",
    "create(tempFileOutApk_JSON);\n",
    "create(tempFileOutApk_CSV);\n",
    "\n",
    "public static final String pathToAPK = Utils.osPathJoin(testRec, \"app-debug.apk\");"
   ]
  },
  {
   "cell_type": "markdown",
   "metadata": {},
   "source": [
    "## APK Tests"
   ]
  },
  {
   "cell_type": "code",
   "execution_count": null,
   "metadata": {},
   "outputs": [],
   "source": [
    "@RunWith(QuarantiningRunner.class)\n",
    "@Quarantine({\"com.binarytweed\", \"*\"})\n",
    "public class main_TestableApk_Legacy {\n",
    "\tpublic static void apply() {\n",
    "\tG.reset();\n",
    "\tString fileOut = tempFileOutApk;\n",
    "\n",
    "\tnew File(fileOut).delete();\n",
    "\tif (isLinux) {\n",
    "\t\tString args =\n",
    "\t\t\tmakeArg(argsIdentifier.FORMAT, EngineType.APK)\n",
    "\t\t\t\t+ makeArg(argsIdentifier.SOURCE, pathToAPK)\n",
    "\t\t\t\t+ makeArg(argsIdentifier.FORMATOUT, Listing.Legacy)\n",
    "\t\t\t\t+ makeArg(argsIdentifier.ANDROID, android_home)\n",
    "\t\t\t\t+ makeArg(argsIdentifier.JAVA, java_home)\n",
    "\t\t\t\t+ makeArg(argsIdentifier.NOEXIT)\n",
    "\t\t\t\t+ makeArg(argsIdentifier.OUT, fileOut);\n",
    "\n",
    "\t\ttry {\n",
    "\t\t\tSystem.out.println(\"CMD Line: \" + args);\n",
    "\t\t\tEntryPoint.main(args.split(\" \"));\n",
    "\t\t\tprint(fileOut);\n",
    "\t\t} catch (Exception e) {\n",
    "\t\t\te.printStackTrace();\n",
    "\t\t\tassertNull(e);\n",
    "\t\t}\n",
    "\t  }\n",
    "\t}\n",
    "}"
   ]
  },
  {
   "cell_type": "code",
   "execution_count": null,
   "metadata": {},
   "outputs": [],
   "source": [
    "start();\n",
    "main_TestableApk_Legacy.apply();\n",
    "end();"
   ]
  },
  {
   "cell_type": "code",
   "execution_count": null,
   "metadata": {},
   "outputs": [],
   "source": [
    "@RunWith(QuarantiningRunner.class)\n",
    "@Quarantine({\"com.binarytweed\", \"*\"})\n",
    "public class main_TestableApk_XML {\n",
    "\tpublic static void apply() {\n",
    "\t\tG.reset();\n",
    "\t\tString fileOut = tempFileOutApk_XML;\n",
    "\n",
    "\t\tnew File(fileOut).delete();\n",
    "\t\tif (isLinux) {\n",
    "\t\t\tString args =\n",
    "\t\t\t\tmakeArg(argsIdentifier.FORMAT, EngineType.APK)\n",
    "\t\t\t\t\t+ makeArg(argsIdentifier.SOURCE, pathToAPK)\n",
    "\t\t\t\t\t+ makeArg(argsIdentifier.FORMATOUT, Listing.ScarfXML)\n",
    "\t\t\t\t\t+ makeArg(argsIdentifier.ANDROID, android_home)\n",
    "\t\t\t\t\t+ makeArg(argsIdentifier.JAVA, java_home)\n",
    "\t\t\t\t\t+ makeArg(argsIdentifier.NOEXIT)\n",
    "\t\t\t\t\t+ makeArg(argsIdentifier.OUT, fileOut);\n",
    "\n",
    "\t\t\ttry {\n",
    "\t\t\t\tEntryPoint.main(args.split(\" \"));\n",
    "\t\t\t\tprint(fileOut);\n",
    "\t\t\t} catch (Exception e) {\n",
    "\t\t\t\te.printStackTrace();\n",
    "\t\t\t\tassertNull(e);\n",
    "\t\t\t}\n",
    "\t\t}\n",
    "\t}\n",
    "}"
   ]
  },
  {
   "cell_type": "code",
   "execution_count": null,
   "metadata": {},
   "outputs": [],
   "source": [
    "start();\n",
    "main_TestableApk_XML.apply();\n",
    "end();"
   ]
  },
  {
   "cell_type": "code",
   "execution_count": null,
   "metadata": {},
   "outputs": [],
   "source": [
    "@RunWith(QuarantiningRunner.class)\n",
    "@Quarantine({\"com.binarytweed\", \"*\"})\n",
    "public class main_TestableApk_JSON {\n",
    "\tpublic static void apply() {\n",
    "\t\tG.reset();\n",
    "\t\tString fileOut = tempFileOutApk_JSON;\n",
    "\n",
    "\t\tnew File(fileOut).delete();\n",
    "\t\tif (isLinux) {\n",
    "\t\t\tString args =\n",
    "\t\t\t\tmakeArg(argsIdentifier.FORMAT, EngineType.APK)\n",
    "\t\t\t\t\t+ makeArg(argsIdentifier.SOURCE, pathToAPK)\n",
    "\t\t\t\t\t+ makeArg(argsIdentifier.ANDROID, android_home)\n",
    "\t\t\t\t\t+ makeArg(argsIdentifier.JAVA, java_home)\n",
    "\t\t\t\t\t+ makeArg(argsIdentifier.NOEXIT)\n",
    "\t\t\t\t\t+ makeArg(argsIdentifier.OUT, fileOut);\n",
    "\n",
    "\t\t\ttry {\n",
    "\t\t\t\tSystem.out.println(\"CMD Line: \" + args);\n",
    "\t\t\t\tEntryPoint.main(args.split(\" \"));\n",
    "\t\t\t\tprint(fileOut);\n",
    "\t\t\t} catch (Exception e) {\n",
    "\t\t\t\te.printStackTrace();\n",
    "\t\t\t\tassertNull(e);\n",
    "\t\t\t}\n",
    "\t\t}\n",
    "\t}\n",
    "}"
   ]
  },
  {
   "cell_type": "code",
   "execution_count": null,
   "metadata": {},
   "outputs": [],
   "source": [
    "start();\n",
    "main_TestableApk_JSON.apply();\n",
    "end();"
   ]
  },
  {
   "cell_type": "code",
   "execution_count": null,
   "metadata": {},
   "outputs": [],
   "source": [
    "@RunWith(QuarantiningRunner.class)\n",
    "@Quarantine({\"com.binarytweed\", \"*\"})\n",
    "public class main_TestableApk_CSV {\n",
    "\tpublic static void apply() {\n",
    "\t\tG.reset();\n",
    "\t\tString fileOut = tempFileOutApk_CSV;\n",
    "\n",
    "\t\tnew File(fileOut).delete();\n",
    "\t\tif (isLinux) {\n",
    "\t\t\tString args =\n",
    "\t\t\t\tmakeArg(argsIdentifier.FORMAT, EngineType.APK)\n",
    "\t\t\t\t\t+ makeArg(argsIdentifier.SOURCE, pathToAPK)\n",
    "\t\t\t\t\t+ makeArg(argsIdentifier.FORMATOUT, Listing.CSVDefault)\n",
    "\t\t\t\t\t+ makeArg(argsIdentifier.ANDROID, android_home)\n",
    "\t\t\t\t\t+ makeArg(argsIdentifier.JAVA, java_home)\n",
    "\t\t\t\t\t+ makeArg(argsIdentifier.NOEXIT)\n",
    "\t\t\t\t\t+ makeArg(argsIdentifier.OUT, fileOut);\n",
    "\n",
    "\t\t\ttry {\n",
    "\t\t\t\tSystem.out.println(\"CMD Line: \" + args);\n",
    "\t\t\t\tEntryPoint.main(args.split(\" \"));\n",
    "\t\t\t\tprint(fileOut);\n",
    "\t\t\t} catch (Exception e) {\n",
    "\t\t\t\te.printStackTrace();\n",
    "\t\t\t\tassertNull(e);\n",
    "\t\t\t}\n",
    "\t\t}\n",
    "\t}\n",
    "}"
   ]
  },
  {
   "cell_type": "code",
   "execution_count": null,
   "metadata": {},
   "outputs": [],
   "source": [
    "start();\n",
    "main_TestableApk_CSV.apply();\n",
    "end();"
   ]
  },
  {
   "cell_type": "markdown",
   "metadata": {},
   "source": [
    "## Java Class File Setup"
   ]
  },
  {
   "cell_type": "code",
   "execution_count": null,
   "metadata": {},
   "outputs": [],
   "source": [
    "public static final String verySimple_Klass_xml_1 = Utils.osPathJoin(testPath, \"verySimple_klass_1.xml\");\n",
    "public static final String verySimple_Klass_yaml_1 = Utils.osPathJoin(testPath, \"verySimple_klass_2.yaml\");\n",
    "\n",
    "create(verySimple_Klass_xml_1);\n",
    "create(verySimple_Klass_yaml_1);\n",
    "\n",
    "public static final String verySimple_Path = Utils.osPathJoin(testRec, \"VerySimple\");\n",
    "public static final String verySimple_Klass = Utils.osPathJoin(verySimple_Path, \"very.class\");"
   ]
  },
  {
   "cell_type": "markdown",
   "metadata": {},
   "source": [
    "## Java Class Tests"
   ]
  },
  {
   "cell_type": "code",
   "execution_count": null,
   "metadata": {},
   "outputs": [],
   "source": [
    "@RunWith(QuarantiningRunner.class)\n",
    "@Quarantine({\"com.binarytweed\", \"*\"})\n",
    "public class main_TestableFile_VerySimple {\n",
    "\tpublic static void apply() {\n",
    "\t\tG.reset();\n",
    "\t\tsoot.G.v().reset();\n",
    "\n",
    "\t\tString source = verySimple_Klass;\n",
    "\t\tString fileOut = verySimple_Klass_xml_1;\n",
    "\n",
    "\t\tnew File(fileOut).delete();\n",
    "\t\tif (isLinux) {\n",
    "\t\t\tString args =\n",
    "\t\t\t\tmakeArg(argsIdentifier.FORMAT, EngineType.CLASSFILES)\n",
    "\t\t\t\t+ makeArg(argsIdentifier.FORMATOUT, Listing.ScarfXML)\n",
    "\t\t\t\t+ makeArg(argsIdentifier.SOURCE, source)\n",
    "\t\t\t\t+ makeArg(argsIdentifier.NOEXIT)\n",
    "\t\t\t\t+ makeArg(argsIdentifier.ANDROID, \"/InvalidPath/\")\n",
    "\t\t\t\t+ makeArg(argsIdentifier.VERYVERBOSE)\n",
    "\t\t\t\t+ makeArg(argsIdentifier.STREAM)\n",
    "\t\t\t\t+ makeArg(argsIdentifier.PRETTY)\n",
    "\t\t\t\t+ makeArg(argsIdentifier.JAVA, java_home)\n",
    "\t\t\t\t+ makeArg(argsIdentifier.OUT, fileOut);\n",
    "\n",
    "\t\t\ttry {\n",
    "\t\t\t\tSystem.out.println(\"CMD Line: \" + args);\n",
    "\t\t\t\tEntryPoint.main(args.split(\" \"));\n",
    "\t\t\t\tprint(fileOut);\n",
    "\t\t\t} catch (Exception e) {\n",
    "\t\t\t\te.printStackTrace();\n",
    "\t\t\t\tassertNull(e);\n",
    "\t\t\t}\n",
    "\t\t}\n",
    "\t}\n",
    "}"
   ]
  },
  {
   "cell_type": "code",
   "execution_count": null,
   "metadata": {},
   "outputs": [],
   "source": [
    "start();\n",
    "main_TestableFile_VerySimple.apply();\n",
    "end();"
   ]
  },
  {
   "cell_type": "code",
   "execution_count": null,
   "metadata": {},
   "outputs": [],
   "source": [
    "@RunWith(QuarantiningRunner.class)\n",
    "@Quarantine({\"com.binarytweed\", \"*\"})\n",
    "public class main_TestableFile_VerySimple_YAML {\n",
    "\tpublic static void apply() {\n",
    "\t\tG.reset();\n",
    "\t\tsoot.G.v().reset();\n",
    "\n",
    "\t\tString source = verySimple_Klass;\n",
    "\t\tString fileOut = verySimple_Klass_yaml_1;\n",
    "\t\tListing type = Listing.YAMLGeneric;\n",
    "\n",
    "\t\tnew File(fileOut).delete();\n",
    "\t\tif (isLinux) {\n",
    "\t\t\tString args =\n",
    "\t\t\t\tmakeArg(argsIdentifier.FORMAT, EngineType.CLASSFILES)\n",
    "\t\t\t\t+ makeArg(argsIdentifier.FORMATOUT, type)\n",
    "\t\t\t\t+ makeArg(argsIdentifier.SOURCE, source)\n",
    "\t\t\t\t+ makeArg(argsIdentifier.NOEXIT)\n",
    "\t\t\t\t+ makeArg(argsIdentifier.ANDROID, \"/InvalidPath/\")\n",
    "\t\t\t\t+ makeArg(argsIdentifier.VERYVERBOSE)\n",
    "\t\t\t\t+ makeArg(argsIdentifier.PRETTY)\n",
    "\t\t\t\t+ makeArg(argsIdentifier.JAVA, java_home)\n",
    "\t\t\t\t+ makeArg(argsIdentifier.OUT, fileOut);\n",
    "\n",
    "\t\t\ttry {\n",
    "\t\t\t\tSystem.out.println(\"CMD Line: \" + args);\n",
    "\t\t\t\tEntryPoint.main(args.split(\" \"));\n",
    "\t\t\t\tprint(fileOut);\n",
    "\t\t\t} catch (Exception e) {\n",
    "\t\t\t\te.printStackTrace();\n",
    "\t\t\t\tassertNull(e);\n",
    "\t\t\t}\n",
    "\t\t}\n",
    "\t}\n",
    "}"
   ]
  },
  {
   "cell_type": "code",
   "execution_count": null,
   "metadata": {},
   "outputs": [],
   "source": [
    "start();\n",
    "main_TestableFile_VerySimple_YAML.apply();\n",
    "end();"
   ]
  },
  {
   "cell_type": "markdown",
   "metadata": {},
   "source": [
    "## Jar Setup"
   ]
  },
  {
   "cell_type": "code",
   "execution_count": null,
   "metadata": {},
   "outputs": [],
   "source": [
    "public static final String tempJarFile_xml = Utils.osPathJoin(testPath, \"tempJarFile.xml\");\n",
    "public static final String tempJarFile_json = Utils.osPathJoin(testPath, \"tempJarFile.json\");\n",
    "\n",
    "create(tempJarFile_xml);\n",
    "create(tempJarFile_json);\n",
    "\n",
    "public static final String jarOne = Utils.osPathJoin(testRec, \"testable-jar\", \"build\", \"libs\", \"testable-jar.jar\");\n",
    "public static final String verySimple_Jar = Utils.osPathJoin(verySimple_Path, \"very.jar\");\n",
    "public static final String srcOneGrvDep = Utils.osPathJoin(testRec, \"testable-jar\", \"build\", \"dependencies\");"
   ]
  },
  {
   "cell_type": "markdown",
   "metadata": {},
   "source": [
    "## JAR Tests"
   ]
  },
  {
   "cell_type": "code",
   "execution_count": null,
   "metadata": {},
   "outputs": [],
   "source": [
    "@RunWith(QuarantiningRunner.class)\n",
    "@Quarantine({\"com.binarytweed\", \"*\"})\n",
    "public class main_VerySimple_Scarf {\n",
    "\tpublic static void apply() {\n",
    "\t\tG.reset();\n",
    "\t\tString fileOut = tempJarFile_xml;\n",
    "\n",
    "\t\tnew File(fileOut).delete();\n",
    "\t\tif (isLinux) {\n",
    "\t\t\tString args =\n",
    "\t\t\t\tmakeArg(argsIdentifier.FORMAT, EngineType.JAR)\n",
    "\t\t\t\t+ makeArg(argsIdentifier.SOURCE, verySimple_Jar)\n",
    "\t\t\t\t+ makeArg(argsIdentifier.FORMATOUT, Listing.ScarfXML)\n",
    "\t\t\t\t+ makeArg(argsIdentifier.OUT, fileOut)\n",
    "\t\t\t\t+ makeArg(argsIdentifier.STREAM)\n",
    "\t\t\t\t+ makeArg(argsIdentifier.ANDROID, \"/InvalidPath/\")\n",
    "\t\t\t\t+ makeArg(argsIdentifier.JAVA, java_home)\n",
    "\t\t\t\t+ makeArg(argsIdentifier.TIMEMEASURE)\n",
    "\t\t\t\t+ makeArg(argsIdentifier.NOEXIT)\n",
    "\t\t\t\t+ makeArg(argsIdentifier.PRETTY);\n",
    "\n",
    "\t\t\ttry {\n",
    "\t\t\t\tSystem.out.println(\"CMD Line: \" + args);\n",
    "\t\t\t\tEntryPoint.main(args.split(\" \"));\n",
    "\t\t\t\tprint(fileOut);\n",
    "\t\t\t} catch (Exception e) {\n",
    "\t\t\t\te.printStackTrace();\n",
    "\t\t\t\tassertNull(e);\n",
    "\t\t\t}\n",
    "\t\t}\n",
    "\t}\n",
    "}"
   ]
  },
  {
   "cell_type": "code",
   "execution_count": null,
   "metadata": {},
   "outputs": [],
   "source": [
    "start();\n",
    "main_VerySimple_Scarf.apply();\n",
    "end();"
   ]
  },
  {
   "cell_type": "code",
   "execution_count": null,
   "metadata": {},
   "outputs": [],
   "source": [
    "@RunWith(QuarantiningRunner.class)\n",
    "@Quarantine({\"com.binarytweed\", \"*\"})\n",
    "public class main_TestableJar {\n",
    "\tpublic static void apply() {\n",
    "\t\tG.reset();\n",
    "\t\tString fileOut = tempJarFile_json;\n",
    "\n",
    "\t\tnew File(fileOut).delete();\n",
    "\t\tif (isLinux) {\n",
    "\t\t\tString args =\n",
    "\t\t\t\tmakeArg(argsIdentifier.FORMAT, EngineType.JAR)\n",
    "\t\t\t\t+ makeArg(argsIdentifier.FORMATOUT, Listing.Default)\n",
    "\t\t\t\t+ makeArg(argsIdentifier.SOURCE, jarOne)\n",
    "\t\t\t\t+ makeArg(argsIdentifier.ANDROID, \"/InvalidPath/\")\n",
    "\t\t\t\t+ makeArg(argsIdentifier.JAVA, java_home)\n",
    "\t\t\t\t+ makeArg(argsIdentifier.DEPENDENCY, srcOneGrvDep)\n",
    "\t\t\t\t+ makeArg(argsIdentifier.NOEXIT)\n",
    "\t\t\t\t+ makeArg(argsIdentifier.OUT, fileOut);\n",
    "\n",
    "\t\t\ttry {\n",
    "\t\t\t\tSystem.out.println(\"CMD Line: \" + args);\n",
    "\t\t\t\tEntryPoint.main(args.split(\" \"));\n",
    "\t\t\t\tprint(fileOut);\n",
    "\t\t\t} catch (Exception e) {\n",
    "\t\t\t\te.printStackTrace();\n",
    "\t\t\t\tassertNull(e);\n",
    "\t\t\t}\n",
    "\t\t}\n",
    "\t}\n",
    "}"
   ]
  },
  {
   "cell_type": "code",
   "execution_count": null,
   "metadata": {},
   "outputs": [],
   "source": [
    "start();\n",
    "main_TestableJar.apply();\n",
    "end();"
   ]
  }
 ],
 "metadata": {
  "kernelspec": {
   "display_name": "Java",
   "language": "java",
   "name": "java"
  },
  "language_info": {
   "codemirror_mode": "java",
   "file_extension": ".jshell",
   "mimetype": "text/x-java-source",
   "name": "Java",
   "pygments_lexer": "java",
   "version": "11.0.7+10"
  }
 },
 "nbformat": 4,
 "nbformat_minor": 4
}
